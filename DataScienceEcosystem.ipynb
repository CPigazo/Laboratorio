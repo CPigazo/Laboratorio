{
 "cells": [
  {
   "cell_type": "markdown",
   "metadata": {},
   "source": [
    "<center>\n",
    "    <img src=\"https://cf-courses-data.s3.us.cloud-object-storage.appdomain.cloud/IBMDeveloperSkillsNetwork-DS0105EN-SkillsNetwork/labs/Module2/images/SN_web_lightmode.png\" width=\"300\" alt=\"cognitiveclass.ai logo\">\n",
    "</center>\n"
   ]
  },
  {
   "cell_type": "markdown",
   "metadata": {},
   "source": [
    "#### Add your code below following the instructions given in the course\n"
   ]
  },
  {
   "cell_type": "markdown",
   "metadata": {
    "tags": []
   },
   "source": [
    "# Data Science Tools and Ecosystem"
   ]
  },
  {
   "cell_type": "markdown",
   "metadata": {},
   "source": [
    "In this notebook, Data Science Tools and Ecosystem are summarized."
   ]
  },
  {
   "cell_type": "markdown",
   "metadata": {},
   "source": [
    "**Learning Objectives**\n",
    "- Create a Jupyter Notebook with markdown and code cells\n",
    "- List examples of languages, libraries, and tools used in Data Science\n",
    "- Share your Jupyter Notebook publicly on GitHub\n",
    "- Evaluate the notebooks submitted by your peers using the provided rubric\n",
    "- Demonstrate proficiency in the knowledge of the Data Science toolkit"
   ]
  },
  {
   "cell_type": "markdown",
   "metadata": {},
   "source": [
    "Data Science languages:\n",
    " 1. Python\n",
    " 2. R\n",
    " 3. SQL\n",
    " 4. Java\n",
    " 5. Scala\n",
    " 6. C++ \n",
    " 7. JavaScript \n",
    " 8. Julia"
   ]
  },
  {
   "cell_type": "markdown",
   "metadata": {},
   "source": [
    "Scientific computing libraries:\n",
    "1. In Python:\n",
    "1.1 Pandas(Data structures & tools)\n",
    "1.2 Numpy(Arrays & matrices)\n",
    "1.3 Matplotlib(plots & graphs, most popular)\n",
    "1.4 Seaborn(plots: heat maps, time series,violin plots)\n",
    "1.5 Scikit-Learn(Machine Learning: regression, classification, clustering)\n",
    "1.6 Keras(Deep Learning Neural Networks)\n",
    "1.7 TensorFlow(Deep Learning: Production & Deployment)\n",
    "1.8 Pytorch(Deep Leaning: regression, classification)\n",
    "2. In Scala:\n",
    "2.1 Vegas(statistical data visualizations)\n",
    "2.2 BigDL(deep learning)\n",
    "3. In R:\n",
    "3.1 ggplot2(data visualization)\n",
    "3.2 Keras\n",
    "3.3 TensorFlow"
   ]
  },
  {
   "cell_type": "markdown",
   "metadata": {},
   "source": [
    "| Tool             | Description                                                      | Lenguages      |\n",
    "|------------------|------------------------------------------------------------------|----------------|\n",
    "| Python           | Versatile and powerful programming language for data analysis.   | Python         |\n",
    "| R                | Programming language and environment for statistical analysis.   | R              |\n",
    "| Pandas           | Python library for data manipulation and analysis.               | Python         |\n",
    "| NumPy            | Python library for numerical computation and array manipulation. | Python         |\n",
    "| Matplotlib       | Data visualization library in Python.                            | Python         |\n",
    "| Seaborn          | Visualization library (provides a more user-friendly interface). | Python         |\n",
    "| Scikit-learn     | Python library for machine learning and predictive modeling.     | Python         |\n",
    "| TensorFlow       | Google library for machine learning and neural networks.         | Python         |\n",
    "| Keras            | High-level API for building and training deep learning models.   | Python         |\n",
    "| Jupyter Notebook | For creating documents with code, text, and visualizations.      | Python y others|\n",
    "| Apache Spark     | For processing large volumes of data in a distributed manner     | Scala, Python  |\n",
    "| SQL              | Language for managing and querying relational databases.         | SQL            |\n"
   ]
  },
  {
   "cell_type": "markdown",
   "metadata": {
    "tags": []
   },
   "source": [
    "### Below are a few examples of evaluating arithmetic expressions in Python\n",
    "\n",
    "\n",
    "\n",
    "1. **Addition**: [6 + 2 = 8 ]\n",
    "\n",
    "2. **Subtraction**: [8 - 2 = 6]\n",
    "\n",
    "3. **Multiplication**: [6 \\times 6 = 36]\n",
    "\n",
    "4. **Division**: [10 \\div 2 = 5]\n",
    "\n",
    "5. **Exponentiation**: [2^3 = 8]\n",
    "\n",
    "\n",
    "\n"
   ]
  },
  {
   "cell_type": "code",
   "execution_count": 4,
   "metadata": {
    "tags": []
   },
   "outputs": [
    {
     "data": {
      "text/plain": [
       "17"
      ]
     },
     "execution_count": 4,
     "metadata": {},
     "output_type": "execute_result"
    }
   ],
   "source": [
    "#This a simple arithmetic expression to mutiply then add integers\n",
    "(3*4)+5"
   ]
  },
  {
   "cell_type": "code",
   "execution_count": 7,
   "metadata": {
    "tags": []
   },
   "outputs": [
    {
     "data": {
      "text/plain": [
       "3"
      ]
     },
     "execution_count": 7,
     "metadata": {},
     "output_type": "execute_result"
    }
   ],
   "source": [
    "#This will convert 200 minutes to hours by diving by diving by 60 \n",
    "200 // 60"
   ]
  },
  {
   "cell_type": "code",
   "execution_count": 8,
   "metadata": {
    "tags": []
   },
   "outputs": [
    {
     "name": "stdin",
     "output_type": "stream",
     "text": [
      "Enter the number of minutes:  200\n"
     ]
    },
    {
     "name": "stdout",
     "output_type": "stream",
     "text": [
      "200 minutes is equal to 3 hours\n"
     ]
    }
   ],
   "source": [
    "def convert_minutes_to_hours(minutes):\n",
    "    hours = minutes // 60\n",
    "    return hours\n",
    "\n",
    "# Example usage\n",
    "minutes_input = int(input(\"Enter the number of minutes: \"))\n",
    "hours = convert_minutes_to_hours(minutes_input)\n",
    "print(f\"{minutes_input} minutes is equal to {hours} hours\")"
   ]
  },
  {
   "cell_type": "markdown",
   "metadata": {},
   "source": [
    "## Author:\n",
    "Carlos Pigazo"
   ]
  }
 ],
 "metadata": {
  "kernelspec": {
   "display_name": "Python",
   "language": "python",
   "name": "conda-env-python-py"
  },
  "language_info": {
   "codemirror_mode": {
    "name": "ipython",
    "version": 3
   },
   "file_extension": ".py",
   "mimetype": "text/x-python",
   "name": "python",
   "nbconvert_exporter": "python",
   "pygments_lexer": "ipython3",
   "version": "3.7.12"
  }
 },
 "nbformat": 4,
 "nbformat_minor": 4
}
